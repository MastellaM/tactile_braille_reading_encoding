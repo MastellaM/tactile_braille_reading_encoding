{
  "nbformat": 4,
  "nbformat_minor": 0,
  "metadata": {
    "colab": {
      "name": "NM_neuron_pytorch.ipynb",
      "provenance": [],
      "collapsed_sections": [],
      "authorship_tag": "ABX9TyMoOZnbiD047EjaGrN1DcbG",
      "include_colab_link": true
    },
    "kernelspec": {
      "name": "python3",
      "display_name": "Python 3"
    },
    "language_info": {
      "name": "python"
    },
    "accelerator": "GPU",
    "gpuClass": "standard"
  },
  "cells": [
    {
      "cell_type": "markdown",
      "metadata": {
        "id": "view-in-github",
        "colab_type": "text"
      },
      "source": [
        "<a href=\"https://colab.research.google.com/github/MastellaM/tactile_braille_reading_encoding/blob/main/notebooks/NM_neuron_pytorch.ipynb\" target=\"_parent\"><img src=\"https://colab.research.google.com/assets/colab-badge.svg\" alt=\"Open In Colab\"/></a>"
      ]
    },
    {
      "cell_type": "code",
      "source": [
        "!pip install torchviz"
      ],
      "metadata": {
        "colab": {
          "base_uri": "https://localhost:8080/"
        },
        "id": "xe4OJl5ywcNg",
        "outputId": "0d684bd7-fc64-4a47-a97d-d292b5938c86"
      },
      "execution_count": null,
      "outputs": [
        {
          "output_type": "stream",
          "name": "stdout",
          "text": [
            "Looking in indexes: https://pypi.org/simple, https://us-python.pkg.dev/colab-wheels/public/simple/\n",
            "Collecting torchviz\n",
            "  Downloading torchviz-0.0.2.tar.gz (4.9 kB)\n",
            "Requirement already satisfied: torch in /usr/local/lib/python3.7/dist-packages (from torchviz) (1.11.0+cu113)\n",
            "Requirement already satisfied: graphviz in /usr/local/lib/python3.7/dist-packages (from torchviz) (0.10.1)\n",
            "Requirement already satisfied: typing-extensions in /usr/local/lib/python3.7/dist-packages (from torch->torchviz) (4.1.1)\n",
            "Building wheels for collected packages: torchviz\n",
            "  Building wheel for torchviz (setup.py) ... \u001b[?25l\u001b[?25hdone\n",
            "  Created wheel for torchviz: filename=torchviz-0.0.2-py3-none-any.whl size=4150 sha256=d49900b73af1a29116fd20545094086b6187d9b254d62e3c176ca980102a936c\n",
            "  Stored in directory: /root/.cache/pip/wheels/04/38/f5/dc4f85c3909051823df49901e72015d2d750bd26b086480ec2\n",
            "Successfully built torchviz\n",
            "Installing collected packages: torchviz\n",
            "Successfully installed torchviz-0.0.2\n"
          ]
        }
      ]
    },
    {
      "cell_type": "code",
      "execution_count": null,
      "metadata": {
        "id": "poyPiaczyUCc"
      },
      "outputs": [],
      "source": [
        "import torch\n",
        "from torch import nn\n",
        "from math import sqrt\n",
        "import numpy as np\n",
        "from torchviz import make_dot\n",
        "import matplotlib.pyplot as plt\n",
        "from collections import namedtuple"
      ]
    },
    {
      "cell_type": "code",
      "source": [
        "class MN_neuron(nn.Module):\n",
        "    # we save the state of the neuron in a namedtuple (Similar to a dictionary)\n",
        "    NeuronState = namedtuple('NeuronState', ['V', 'i1', 'i2', 'Thr'])\n",
        "\n",
        "    def __init__(self, n_in, n_out, a, A1, A2):\n",
        "        super(MN_neuron, self).__init__()\n",
        "        \n",
        "        self.linear = nn.Linear(n_in, n_out, bias=False)\n",
        "        #torch.nn.init.eye_(self.linear.weight)\n",
        "        torch.nn.init.constant_(self.linear.weight, 2.0)\n",
        "        self.C = 1\n",
        "        \n",
        "        self.EL = -0.07\n",
        "        self.Vr = -0.07\n",
        "        self.R1 = 0\n",
        "        self.R2 =  1\n",
        "        self.Tr = -0.06\n",
        "        self.Tinf = -0.05\n",
        "\n",
        "        self.b = 10 # units of 1/s\n",
        "        self.G = 50 * self.C  # units of 1/s\n",
        "        self.k1 = 200 # units of 1/s\n",
        "        self.k2 = 20 # units of 1/s\n",
        "\n",
        "        self.dt = 1/1000\n",
        "\n",
        "        #self.a = nn.Parameter(torch.tensor(a), requires_grad=True)\n",
        "        self.a = nn.Parameter(torch.ones(1,n_out)*a, requires_grad=True)\n",
        "        #torch.nn.init.constant_(self.a, a)\n",
        "        self.A1 = A1 * self.C \n",
        "        self.A2 = A2 * self.C\n",
        "        \n",
        "        self.state = None\n",
        "\n",
        "    def forward(self, x):\n",
        "        if self.state is None:\n",
        "            self.state = self.NeuronState(V = torch.ones(x.shape[0], n_out, device=x.device) * self.EL,\n",
        "                                          i1 = torch.zeros(x.shape[0], n_out, device=x.device),\n",
        "                                          i2 = torch.zeros(x.shape[0], n_out, device=x.device),\n",
        "                                          Thr = torch.ones(x.shape[0], n_out, device=x.device) * self.Tr)\n",
        "\n",
        "        V = self.state.V\n",
        "        i1 = self.state.i1\n",
        "        i2 = self.state.i2\n",
        "        Thr = self.state.Thr\n",
        "\n",
        "        i1 += -self.k1*i1 *self.dt\n",
        "        i2 += -self.k2*i2 *self.dt\n",
        "        V += self.dt*(self.linear(x) + i1 + i2 - self.G*(V-self.EL)) / self.C\n",
        "        Thr += self.dt*(self.a*(V - self.EL) - self.b*(Thr - self.Tinf))\n",
        "\n",
        "        spk = activation(V - Thr)\n",
        "\n",
        "        i1   = (1-spk)*i1 + (spk)*(self.R1*i1 +self.A1)\n",
        "        i2   = (1-spk)*i2 + (spk)*(self.R2*i2 +self.A2)\n",
        "        Thr  = (1-spk)*Thr + (spk)*torch.max(Thr, torch.tensor(self.Tr))\n",
        "        V    = (1-spk)*V + (spk)*self.Vr\n",
        "\n",
        "        self.state = self.NeuronState(V = V, i1 = i1, i2 = i2, Thr = Thr)\n",
        "\n",
        "        return spk\n",
        "\n",
        "class SurrGradSpike(torch.autograd.Function):\n",
        "    scale = 20.0 # controls steepness of surrogate gradient\n",
        "\n",
        "    @staticmethod\n",
        "    def forward(ctx, input):\n",
        "        ctx.save_for_backward(input)\n",
        "        return (input > 0.).float()\n",
        "\n",
        "    @staticmethod\n",
        "    def backward(ctx, grad_output):\n",
        "        input, = ctx.saved_tensors\n",
        "        grad = grad_output/(SurrGradSpike.scale*torch.abs(input)+1.0)**2\n",
        "        return grad\n",
        "\n",
        "activation = SurrGradSpike.apply\n",
        "    "
      ],
      "metadata": {
        "id": "I_N1Q39-45zx"
      },
      "execution_count": null,
      "outputs": []
    },
    {
      "cell_type": "markdown",
      "source": [
        "# Training\n",
        "We are gonna train the network to emit 4 and 8 spikes. For that, the loss function is defined as the MSE of the sum of spikes and the objective number of spikes (8 and 4)"
      ],
      "metadata": {
        "id": "C2dSK_dkhABQ"
      }
    },
    {
      "cell_type": "code",
      "source": [
        "from torch.nn import parameter\n",
        "DEVICE = \"cpu\"\n",
        "n_in = 1\n",
        "n_out =2\n",
        "BATCH_SIZE = 1\n",
        "TOTTIME = 1000\n",
        "Ie = torch.tensor(1.5).view(1,1)\n",
        "\n",
        "Net = MN_neuron(n_in, n_out, 5., 0., 0.)\n",
        "\n",
        "\n",
        "optimizer = torch.optim.SGD(params=Net.parameters(), lr=1e-2)\n",
        "for epoch in range(200):\n",
        "    spikes = 0\n",
        "    voltages = []\n",
        "    for t in range(100):\n",
        "        spikes += Net(Ie)\n",
        "        voltages.append(Net.state.V.clone().detach().cpu().numpy())\n",
        "\n",
        "    voltages = np.stack(voltages)\n",
        "    mse = torch.sum((spikes - torch.tensor([8,4]))**2)\n",
        "\n",
        "    optimizer.zero_grad()\n",
        "    #Loss = torch.nn.MSELoss()\n",
        "    #mse = Loss(spikes[t], torch.ones_like(spikes[t]))\n",
        "    mse.backward()\n",
        "    optimizer.step()\n",
        "\n",
        "    for state in Net.state:\n",
        "        state.detach_()\n",
        "\n",
        "    #make_dot(mse, params=dict(Net.named_parameters()))\n"
      ],
      "metadata": {
        "id": "3sHttFqDypTV"
      },
      "execution_count": null,
      "outputs": []
    },
    {
      "cell_type": "code",
      "source": [
        "import numpy as np\n",
        "import matplotlib.pyplot as plt\n",
        "\n",
        "plt.plot(voltages[:,0,:])"
      ],
      "metadata": {
        "id": "G5qXVSknCuml",
        "colab": {
          "base_uri": "https://localhost:8080/"
        },
        "outputId": "fb1f21fc-70e7-4ada-c8ce-1c0f201e8b9b"
      },
      "execution_count": null,
      "outputs": [
        {
          "output_type": "execute_result",
          "data": {
            "text/plain": [
              "[<matplotlib.lines.Line2D at 0x7fb384e22110>,\n",
              " <matplotlib.lines.Line2D at 0x7fb384e22350>]"
            ]
          },
          "metadata": {},
          "execution_count": 8
        },
        {
          "output_type": "display_data",
          "data": {
            "text/plain": [
              "<Figure size 432x288 with 1 Axes>"
            ],
            "image/png": "[encoded data removed]"
          },
          "metadata": {
            "needs_background": "light"
          }
        }
      ]
    },
    {
      "cell_type": "code",
      "source": [
        "Net.a"
      ],
      "metadata": {
        "id": "Qj065W5vDNhB",
        "colab": {
          "base_uri": "https://localhost:8080/"
        },
        "outputId": "5bfd9d30-9f96-4c0b-b0a7-5bef7fd9c913"
      },
      "execution_count": null,
      "outputs": [
        {
          "output_type": "execute_result",
          "data": {
            "text/plain": [
              "Parameter containing:\n",
              "tensor([[4.9925, 5.0428]], requires_grad=True)"
            ]
          },
          "metadata": {},
          "execution_count": 5
        }
      ]
    }
  ]
}